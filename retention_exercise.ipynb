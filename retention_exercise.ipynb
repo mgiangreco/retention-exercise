{
 "cells": [
  {
   "cell_type": "markdown",
   "metadata": {},
   "source": [
    "## Question 2: Investing in Customer Retention"
   ]
  },
  {
   "cell_type": "code",
   "execution_count": 335,
   "metadata": {
    "collapsed": true
   },
   "outputs": [],
   "source": [
    "#!/usr/bin/env python\n",
    "\n",
    "import pandas as pd\n",
    "import numpy as np\n",
    "\n",
    "\n",
    "# Read in the dataset\n",
    "\n",
    "df = pd.read_excel('/Users/mgiangreco/Documents/Worksheet_in_BusinessIntelligenceAnalystDataExercisev2-1.xlsx',\n",
    "                  sheetname='retention')"
   ]
  },
  {
   "cell_type": "code",
   "execution_count": 336,
   "metadata": {
    "collapsed": false
   },
   "outputs": [
    {
     "data": {
      "text/html": [
       "<div>\n",
       "<table border=\"1\" class=\"dataframe\">\n",
       "  <thead>\n",
       "    <tr style=\"text-align: right;\">\n",
       "      <th></th>\n",
       "      <th>customer_id</th>\n",
       "      <th>order_number</th>\n",
       "      <th>order_revenue</th>\n",
       "      <th>follow_up_email</th>\n",
       "      <th>discount_amt_in_follow_up_email</th>\n",
       "    </tr>\n",
       "  </thead>\n",
       "  <tbody>\n",
       "    <tr>\n",
       "      <th>0</th>\n",
       "      <td>2537</td>\n",
       "      <td>1</td>\n",
       "      <td>2.14</td>\n",
       "      <td>Y</td>\n",
       "      <td>2.0</td>\n",
       "    </tr>\n",
       "    <tr>\n",
       "      <th>1</th>\n",
       "      <td>3090</td>\n",
       "      <td>1</td>\n",
       "      <td>2.84</td>\n",
       "      <td>Y</td>\n",
       "      <td>2.0</td>\n",
       "    </tr>\n",
       "    <tr>\n",
       "      <th>2</th>\n",
       "      <td>4077</td>\n",
       "      <td>1</td>\n",
       "      <td>2.27</td>\n",
       "      <td>Y</td>\n",
       "      <td>2.0</td>\n",
       "    </tr>\n",
       "    <tr>\n",
       "      <th>3</th>\n",
       "      <td>1598</td>\n",
       "      <td>1</td>\n",
       "      <td>2.91</td>\n",
       "      <td>Y</td>\n",
       "      <td>2.0</td>\n",
       "    </tr>\n",
       "    <tr>\n",
       "      <th>4</th>\n",
       "      <td>4372</td>\n",
       "      <td>1</td>\n",
       "      <td>2.18</td>\n",
       "      <td>Y</td>\n",
       "      <td>2.0</td>\n",
       "    </tr>\n",
       "  </tbody>\n",
       "</table>\n",
       "</div>"
      ],
      "text/plain": [
       "   customer_id  order_number  order_revenue follow_up_email  \\\n",
       "0         2537             1           2.14               Y   \n",
       "1         3090             1           2.84               Y   \n",
       "2         4077             1           2.27               Y   \n",
       "3         1598             1           2.91               Y   \n",
       "4         4372             1           2.18               Y   \n",
       "\n",
       "   discount_amt_in_follow_up_email  \n",
       "0                              2.0  \n",
       "1                              2.0  \n",
       "2                              2.0  \n",
       "3                              2.0  \n",
       "4                              2.0  "
      ]
     },
     "execution_count": 336,
     "metadata": {},
     "output_type": "execute_result"
    }
   ],
   "source": [
    "df.head()"
   ]
  },
  {
   "cell_type": "markdown",
   "metadata": {},
   "source": [
    "#### 1)"
   ]
  },
  {
   "cell_type": "markdown",
   "metadata": {},
   "source": [
    "#### a. How many unique customers are there?"
   ]
  },
  {
   "cell_type": "code",
   "execution_count": 337,
   "metadata": {
    "collapsed": false
   },
   "outputs": [
    {
     "data": {
      "text/plain": [
       "5311"
      ]
     },
     "execution_count": 337,
     "metadata": {},
     "output_type": "execute_result"
    }
   ],
   "source": [
    "df['customer_id'].nunique()"
   ]
  },
  {
   "cell_type": "markdown",
   "metadata": {},
   "source": [
    "#### b. How many total orders are there?"
   ]
  },
  {
   "cell_type": "code",
   "execution_count": 338,
   "metadata": {
    "collapsed": false
   },
   "outputs": [
    {
     "data": {
      "text/plain": [
       "7815"
      ]
     },
     "execution_count": 338,
     "metadata": {},
     "output_type": "execute_result"
    }
   ],
   "source": [
    "df['order_number'].count()"
   ]
  },
  {
   "cell_type": "markdown",
   "metadata": {},
   "source": [
    "#### - First-time orders?"
   ]
  },
  {
   "cell_type": "code",
   "execution_count": 339,
   "metadata": {
    "collapsed": false
   },
   "outputs": [
    {
     "name": "stdout",
     "output_type": "stream",
     "text": [
      "5311\n"
     ]
    }
   ],
   "source": [
    "first_time_orders = df['customer_id'][df['order_number']==1].count()\n",
    "\n",
    "print(first_time_orders)"
   ]
  },
  {
   "cell_type": "markdown",
   "metadata": {},
   "source": [
    "#### - Second-time orders?"
   ]
  },
  {
   "cell_type": "code",
   "execution_count": 340,
   "metadata": {
    "collapsed": false
   },
   "outputs": [
    {
     "name": "stdout",
     "output_type": "stream",
     "text": [
      "1843\n"
     ]
    }
   ],
   "source": [
    "second_time_orders = df['customer_id'][df['order_number']==2].count()\n",
    "\n",
    "print(second_time_orders)"
   ]
  },
  {
   "cell_type": "markdown",
   "metadata": {},
   "source": [
    "#### - Third-time orders?"
   ]
  },
  {
   "cell_type": "code",
   "execution_count": 341,
   "metadata": {
    "collapsed": false
   },
   "outputs": [
    {
     "name": "stdout",
     "output_type": "stream",
     "text": [
      "661\n"
     ]
    }
   ],
   "source": [
    "third_time_orders = df['customer_id'][df['order_number']==3].count()\n",
    "\n",
    "print(third_time_orders)"
   ]
  },
  {
   "cell_type": "markdown",
   "metadata": {},
   "source": [
    "#### c. How much total revenue did we make?"
   ]
  },
  {
   "cell_type": "code",
   "execution_count": 342,
   "metadata": {
    "collapsed": false
   },
   "outputs": [
    {
     "name": "stdout",
     "output_type": "stream",
     "text": [
      "$19,568.91\n"
     ]
    }
   ],
   "source": [
    "print '${:,.2f}'.format(df['order_revenue'].sum())"
   ]
  },
  {
   "cell_type": "markdown",
   "metadata": {},
   "source": [
    "#### - Revenue from first-time orders?"
   ]
  },
  {
   "cell_type": "code",
   "execution_count": 343,
   "metadata": {
    "collapsed": false
   },
   "outputs": [
    {
     "name": "stdout",
     "output_type": "stream",
     "text": [
      "$13,301.11\n"
     ]
    }
   ],
   "source": [
    "print '${:,.2f}'.format(df['order_revenue'][df['order_number']==1].sum())"
   ]
  },
  {
   "cell_type": "markdown",
   "metadata": {},
   "source": [
    "#### - Revenue from second-time orders?"
   ]
  },
  {
   "cell_type": "code",
   "execution_count": 344,
   "metadata": {
    "collapsed": false
   },
   "outputs": [
    {
     "name": "stdout",
     "output_type": "stream",
     "text": [
      "$4,616.13\n"
     ]
    }
   ],
   "source": [
    "print '${:,.2f}'.format(df['order_revenue'][df['order_number']==2].sum())"
   ]
  },
  {
   "cell_type": "markdown",
   "metadata": {},
   "source": [
    "#### - Revenue from third-time orders?"
   ]
  },
  {
   "cell_type": "code",
   "execution_count": 345,
   "metadata": {
    "collapsed": false
   },
   "outputs": [
    {
     "name": "stdout",
     "output_type": "stream",
     "text": [
      "$1,651.67\n"
     ]
    }
   ],
   "source": [
    "print '${:,.2f}'.format(df['order_revenue'][df['order_number']==3].sum())"
   ]
  },
  {
   "cell_type": "markdown",
   "metadata": {},
   "source": [
    "#### d. What is the customer retention rate between first and second orders?"
   ]
  },
  {
   "cell_type": "code",
   "execution_count": 346,
   "metadata": {
    "collapsed": false
   },
   "outputs": [
    {
     "name": "stdout",
     "output_type": "stream",
     "text": [
      "34.7%\n"
     ]
    }
   ],
   "source": [
    "print \"{0:.1f}%\".format(float(second_time_orders) / float(first_time_orders) * 100)"
   ]
  },
  {
   "cell_type": "markdown",
   "metadata": {},
   "source": [
    "#### - Retention rate between second and third orders?"
   ]
  },
  {
   "cell_type": "code",
   "execution_count": 347,
   "metadata": {
    "collapsed": false
   },
   "outputs": [
    {
     "name": "stdout",
     "output_type": "stream",
     "text": [
      "35.9%\n"
     ]
    }
   ],
   "source": [
    "print \"{0:.1f}%\".format(float(third_time_orders) / float(second_time_orders) * 100)"
   ]
  },
  {
   "cell_type": "markdown",
   "metadata": {},
   "source": [
    "#### e. What is the overall retention rate for people we emailed between first and second order?  "
   ]
  },
  {
   "cell_type": "code",
   "execution_count": 348,
   "metadata": {
    "collapsed": false
   },
   "outputs": [
    {
     "name": "stdout",
     "output_type": "stream",
     "text": [
      "1399 / 2724 =\n",
      "51.4%\n"
     ]
    }
   ],
   "source": [
    "customers_emailed_after_first = \\\n",
    "    df['customer_id'].loc[(df['follow_up_email'].str.contains('Y')==True) \\\n",
    "    & (df['order_number']==1)].tolist()\n",
    "\n",
    "emailed_after_first_df = df[df['customer_id'].isin(customers_emailed_after_first)]\n",
    "\n",
    "first_time_order_count = \\\n",
    "    emailed_after_first_df['customer_id'][emailed_after_first_df['order_number']==1].count()\n",
    "\n",
    "second_time_order_count = \\\n",
    "    emailed_after_first_df['customer_id'][emailed_after_first_df['order_number']==2].count()\n",
    "\n",
    "print ('%.0f / %.0f =' % (second_time_order_count, first_time_order_count))\n",
    "       \n",
    "print '{0:.1f}%'.format(float(second_time_order_count) / float(first_time_order_count) * 100)\n"
   ]
  },
  {
   "cell_type": "markdown",
   "metadata": {},
   "source": [
    "#### - Retention rate for people we emailed between first and second order who were offered discount?"
   ]
  },
  {
   "cell_type": "code",
   "execution_count": 349,
   "metadata": {
    "collapsed": false
   },
   "outputs": [
    {
     "name": "stdout",
     "output_type": "stream",
     "text": [
      "664 / 948 =\n",
      "70.0%\n"
     ]
    }
   ],
   "source": [
    "customers_emailed_after_first_w_discount = \\\n",
    "    df['customer_id'].loc[(df['follow_up_email'].str.contains('Y')==True) \\\n",
    "    & (df['order_number']==1) & (df['discount_amt_in_follow_up_email']==2)].tolist()\n",
    "\n",
    "emailed_after_first_w_discount_df = \\\n",
    "    df[df['customer_id'].isin(customers_emailed_after_first_w_discount)]\n",
    "\n",
    "first_time_order_count = \\\n",
    "    emailed_after_first_w_discount_df['customer_id'] \\\n",
    "    [emailed_after_first_w_discount_df['order_number']==1].count()\n",
    "\n",
    "second_time_order_count = \\\n",
    "    emailed_after_first_w_discount_df['customer_id'] \\\n",
    "    [emailed_after_first_w_discount_df['order_number']==2].count()\n",
    "\n",
    "print ('%.0f / %.0f =' % (second_time_order_count, first_time_order_count))\n",
    "\n",
    "print \"{0:.1f}%\".format(float(second_time_order_count) / float(first_time_order_count) * 100)"
   ]
  },
  {
   "cell_type": "markdown",
   "metadata": {},
   "source": [
    "#### - Retention rate for people we emailed between first and second order who were NOT offered discount? "
   ]
  },
  {
   "cell_type": "code",
   "execution_count": 350,
   "metadata": {
    "collapsed": false
   },
   "outputs": [
    {
     "name": "stdout",
     "output_type": "stream",
     "text": [
      "735 / 1776 =\n",
      "41.4%\n"
     ]
    }
   ],
   "source": [
    "customers_emailed_after_first_wo_discount = \\\n",
    "    df['customer_id'].loc[(df['follow_up_email'].str.contains('Y')==True) \\\n",
    "    & (df['order_number']==1) & (df['discount_amt_in_follow_up_email']==0)].tolist()\n",
    "\n",
    "emailed_after_first_wo_discount_df = \\\n",
    "    df[df['customer_id'].isin(customers_emailed_after_first_wo_discount)]\n",
    "\n",
    "first_time_order_count = \\\n",
    "    emailed_after_first_wo_discount_df['customer_id'] \\\n",
    "    [emailed_after_first_wo_discount_df['order_number']==1].count()\n",
    "\n",
    "second_time_order_count = \\\n",
    "    emailed_after_first_wo_discount_df['customer_id'] \\\n",
    "    [emailed_after_first_wo_discount_df['order_number']==2].count()\n",
    "\n",
    "print ('%.0f / %.0f =' % (second_time_order_count, first_time_order_count))\n",
    "\n",
    "print \"{0:.1f}%\".format(float(second_time_order_count) / float(first_time_order_count) * 100)"
   ]
  },
  {
   "cell_type": "markdown",
   "metadata": {},
   "source": [
    "#### - What is the overall retention rate for people we emailed between second and third order?  "
   ]
  },
  {
   "cell_type": "code",
   "execution_count": 351,
   "metadata": {
    "collapsed": false
   },
   "outputs": [
    {
     "name": "stdout",
     "output_type": "stream",
     "text": [
      "489 / 904 =\n",
      "54.1%\n"
     ]
    }
   ],
   "source": [
    "customers_emailed_after_second = \\\n",
    "    df['customer_id'].loc[(df['follow_up_email'].str.contains('Y')==True) \\\n",
    "    & (df['order_number']==2)].tolist()\n",
    "\n",
    "emailed_after_second_df = \\\n",
    "    df[df['customer_id'].isin(customers_emailed_after_second)]\n",
    "\n",
    "second_time_order_count = \\\n",
    "    emailed_after_second_df['customer_id'][emailed_after_second_df['order_number']==2].count()\n",
    "\n",
    "third_time_order_count = \\\n",
    "    emailed_after_second_df['customer_id'][emailed_after_second_df['order_number']==3].count()\n",
    "\n",
    "print ('%.0f / %.0f =' % (third_time_order_count, second_time_order_count))\n",
    "\n",
    "print \"{0:.1f}%\".format(float(third_time_order_count) / float(second_time_order_count) * 100)"
   ]
  },
  {
   "cell_type": "markdown",
   "metadata": {},
   "source": [
    "#### - Retention rate for people we emailed between second and third order who were offered discount?"
   ]
  },
  {
   "cell_type": "code",
   "execution_count": 352,
   "metadata": {
    "collapsed": false
   },
   "outputs": [
    {
     "name": "stdout",
     "output_type": "stream",
     "text": [
      "402 / 643 =\n",
      "62.5%\n"
     ]
    }
   ],
   "source": [
    "customers_emailed_after_second_w_discount = \\\n",
    "    df['customer_id'].loc[(df['follow_up_email'].str.contains('Y')==True) \\\n",
    "    & (df['order_number']==2) & (df['discount_amt_in_follow_up_email']==2)].tolist()\n",
    "\n",
    "emailed_after_second_w_discount_df = \\\n",
    "    df[df['customer_id'].isin(customers_emailed_after_second_w_discount)]\n",
    "\n",
    "second_time_order_count = \\\n",
    "    emailed_after_second_w_discount_df['customer_id'] \\\n",
    "    [emailed_after_second_w_discount_df['order_number']==2].count()\n",
    "\n",
    "third_time_order_count = \\\n",
    "    emailed_after_second_w_discount_df['customer_id'] \\\n",
    "    [emailed_after_second_w_discount_df['order_number']==3].count()\n",
    "\n",
    "print ('%.0f / %.0f =' % (third_time_order_count, second_time_order_count))\n",
    "\n",
    "print \"{0:.1f}%\".format(float(third_time_order_count) / float(second_time_order_count) * 100)"
   ]
  },
  {
   "cell_type": "markdown",
   "metadata": {},
   "source": [
    "#### - Retention rate for people we emailed between second and third order who were NOT offered discount?"
   ]
  },
  {
   "cell_type": "code",
   "execution_count": 353,
   "metadata": {
    "collapsed": false
   },
   "outputs": [
    {
     "name": "stdout",
     "output_type": "stream",
     "text": [
      "87 / 261 =\n",
      "33.3%\n"
     ]
    }
   ],
   "source": [
    "customers_emailed_after_second_wo_discount = \\\n",
    "    df['customer_id'].loc[(df['follow_up_email'].str.contains('Y')==True) \\\n",
    "    & (df['order_number']==2) & (df['discount_amt_in_follow_up_email']==0)].tolist()\n",
    "\n",
    "emailed_after_second_wo_discount_df = \\\n",
    "    df[df['customer_id'].isin(customers_emailed_after_second_wo_discount)]\n",
    "\n",
    "second_time_order_count = \\\n",
    "    emailed_after_second_wo_discount_df['customer_id'] \\\n",
    "    [emailed_after_second_wo_discount_df['order_number']==2].count()\n",
    "\n",
    "third_time_order_count = \\\n",
    "    emailed_after_second_wo_discount_df['customer_id'] \\\n",
    "    [emailed_after_second_wo_discount_df['order_number']==3].count()\n",
    "\n",
    "print ('%.0f / %.0f =' % (third_time_order_count, second_time_order_count))\n",
    "\n",
    "print \"{0:.1f}%\".format(float(third_time_order_count) / float(second_time_order_count) * 100)"
   ]
  },
  {
   "cell_type": "markdown",
   "metadata": {},
   "source": [
    "#### 2)"
   ]
  },
  {
   "cell_type": "markdown",
   "metadata": {
    "collapsed": false
   },
   "source": [
    "#### Which strategies are working best?"
   ]
  },
  {
   "cell_type": "markdown",
   "metadata": {},
   "source": [
    "#### - Retention rate for people we did NOT email between first and second order?"
   ]
  },
  {
   "cell_type": "code",
   "execution_count": 354,
   "metadata": {
    "collapsed": false
   },
   "outputs": [
    {
     "name": "stdout",
     "output_type": "stream",
     "text": [
      "444 / 2587 =\n",
      "17.2%\n"
     ]
    }
   ],
   "source": [
    "customers_not_emailed_after_first = \\\n",
    "    df['customer_id'].loc[(df['follow_up_email'].str.contains('Y')==False) \\\n",
    "    & (df['order_number']==1)].tolist()\n",
    "\n",
    "not_emailed_after_first_df = \\\n",
    "    df[df['customer_id'].isin(customers_not_emailed_after_first)]\n",
    "\n",
    "first_time_order_count = \\\n",
    "    not_emailed_after_first_df['customer_id'] \\\n",
    "    [not_emailed_after_first_df['order_number']==1].count()\n",
    "\n",
    "second_time_order_count = \\\n",
    "    not_emailed_after_first_df['customer_id'] \\\n",
    "    [not_emailed_after_first_df['order_number']==2].count()\n",
    "\n",
    "print ('%.0f / %.0f =' % (second_time_order_count, first_time_order_count))\n",
    "       \n",
    "print '{0:.1f}%'.format(float(second_time_order_count) / float(first_time_order_count) * 100)"
   ]
  },
  {
   "cell_type": "markdown",
   "metadata": {},
   "source": [
    "#### - Retention rate for people we did NOT email between second and third order?"
   ]
  },
  {
   "cell_type": "code",
   "execution_count": 355,
   "metadata": {
    "collapsed": false
   },
   "outputs": [
    {
     "name": "stdout",
     "output_type": "stream",
     "text": [
      "172 / 939 =\n",
      "18.3%\n"
     ]
    }
   ],
   "source": [
    "customers_not_emailed_after_second = \\\n",
    "    df['customer_id'].loc[(df['follow_up_email'].str.contains('Y')==False) \\\n",
    "    & (df['order_number']==2)].tolist()\n",
    "\n",
    "not_emailed_after_second_df = \\\n",
    "    df[df['customer_id'].isin(customers_not_emailed_after_second)]\n",
    "\n",
    "second_time_order_count = \\\n",
    "    not_emailed_after_second_df['customer_id'] \\\n",
    "    [not_emailed_after_second_df['order_number']==2].count()\n",
    "\n",
    "third_time_order_count = \\\n",
    "    not_emailed_after_second_df['customer_id'] \\\n",
    "    [not_emailed_after_second_df['order_number']==3].count()\n",
    "\n",
    "print ('%.0f / %.0f =' % (third_time_order_count, second_time_order_count))\n",
    "\n",
    "print \"{0:.1f}%\".format(float(third_time_order_count) / float(second_time_order_count) * 100)"
   ]
  },
  {
   "cell_type": "markdown",
   "metadata": {},
   "source": [
    "#### When we display our results in crosstabs, we can see clearly that emailing with a discount offer results in the highest retention, followed by emailing without a discount offer. Not emailing results in the lowest retention. "
   ]
  },
  {
   "cell_type": "code",
   "execution_count": 356,
   "metadata": {
    "collapsed": false
   },
   "outputs": [
    {
     "data": {
      "text/html": [
       "<div>\n",
       "<table border=\"1\" class=\"dataframe\">\n",
       "  <thead>\n",
       "    <tr style=\"text-align: right;\">\n",
       "      <th></th>\n",
       "      <th>discount_status</th>\n",
       "      <th>discount</th>\n",
       "      <th>no_discount</th>\n",
       "    </tr>\n",
       "    <tr>\n",
       "      <th>period</th>\n",
       "      <th>emailed_status</th>\n",
       "      <th></th>\n",
       "      <th></th>\n",
       "    </tr>\n",
       "  </thead>\n",
       "  <tbody>\n",
       "    <tr>\n",
       "      <th rowspan=\"2\" valign=\"top\">first_to_second</th>\n",
       "      <th>emailed</th>\n",
       "      <td>0.700</td>\n",
       "      <td>0.414</td>\n",
       "    </tr>\n",
       "    <tr>\n",
       "      <th>not_emailed</th>\n",
       "      <td>NaN</td>\n",
       "      <td>0.172</td>\n",
       "    </tr>\n",
       "    <tr>\n",
       "      <th rowspan=\"2\" valign=\"top\">second_to_third</th>\n",
       "      <th>emailed</th>\n",
       "      <td>0.625</td>\n",
       "      <td>0.333</td>\n",
       "    </tr>\n",
       "    <tr>\n",
       "      <th>not_emailed</th>\n",
       "      <td>NaN</td>\n",
       "      <td>0.183</td>\n",
       "    </tr>\n",
       "  </tbody>\n",
       "</table>\n",
       "</div>"
      ],
      "text/plain": [
       "discount_status                 discount  no_discount\n",
       "period          emailed_status                       \n",
       "first_to_second emailed            0.700        0.414\n",
       "                not_emailed          NaN        0.172\n",
       "second_to_third emailed            0.625        0.333\n",
       "                not_emailed          NaN        0.183"
      ]
     },
     "execution_count": 356,
     "metadata": {},
     "output_type": "execute_result"
    }
   ],
   "source": [
    "raw_data = {'discount_status': ['discount', 'discount', 'discount', 'discount', \n",
    "                                'no_discount', 'no_discount', 'no_discount', 'no_discount'],\n",
    "        'period': ['first_to_second', 'first_to_second', 'second_to_third', 'second_to_third', \n",
    "                   'first_to_second', 'first_to_second', 'second_to_third', 'second_to_third'],\n",
    "        'emailed_status': ['emailed', 'not_emailed', 'emailed', 'not_emailed', \n",
    "                           'emailed', 'not_emailed', 'emailed', 'not_emailed']}\n",
    "summary_df = pd.DataFrame(raw_data, \n",
    "                          columns = ['discount_status', 'period', 'emailed_status'])\n",
    "\n",
    "pd.crosstab([summary_df.period, summary_df.emailed_status], summary_df.discount_status, \n",
    "            values=[0.7, np.nan, 0.625, np.nan, 0.414, 0.172, 0.333, 0.183], aggfunc='mean')"
   ]
  },
  {
   "cell_type": "markdown",
   "metadata": {},
   "source": [
    "#### What's the average revenue generated by someone who is emailed twice with discount offers, compared with someone who is emailed twice without discount offers?"
   ]
  },
  {
   "cell_type": "code",
   "execution_count": 357,
   "metadata": {
    "collapsed": false
   },
   "outputs": [
    {
     "name": "stdout",
     "output_type": "stream",
     "text": [
      "Avg. Order Revenue, Emailed With Discount Offer | Second Order: 2.51, Third Order: 2.47\n"
     ]
    }
   ],
   "source": [
    "second_order_revenue_w_discount = \\\n",
    "    emailed_after_first_w_discount_df['order_revenue'] \\\n",
    "    [emailed_after_first_w_discount_df['order_number']==2].mean()\n",
    "\n",
    "third_order_revenue_w_discount = \\\n",
    "    emailed_after_second_w_discount_df['order_revenue'] \\\n",
    "    [emailed_after_second_w_discount_df['order_number']==3].mean()\n",
    "\n",
    "print ('Avg. Order Revenue, Emailed With Discount Offer | Second Order: %.2f, Third Order: %.2f' % \n",
    "       ((second_order_revenue_w_discount), \n",
    "       (third_order_revenue_w_discount)))"
   ]
  },
  {
   "cell_type": "code",
   "execution_count": 358,
   "metadata": {
    "collapsed": false
   },
   "outputs": [
    {
     "name": "stdout",
     "output_type": "stream",
     "text": [
      "Avg. Order Revenue, Emailed Without Discount Offer | Second Order: 2.50, Third Order: 2.51\n"
     ]
    }
   ],
   "source": [
    "second_order_revenue_wo_discount = \\\n",
    "    emailed_after_first_wo_discount_df['order_revenue'] \\\n",
    "    [emailed_after_first_wo_discount_df['order_number']==2].mean()\n",
    "\n",
    "third_order_revenue_wo_discount = \\\n",
    "    emailed_after_second_wo_discount_df['order_revenue'] \\\n",
    "    [emailed_after_second_wo_discount_df['order_number']==3].mean()\n",
    "\n",
    "print ('Avg. Order Revenue, Emailed Without Discount Offer | Second Order: %.2f, Third Order: %.2f' % \n",
    "       ((second_order_revenue_wo_discount),\n",
    "       (third_order_revenue_wo_discount)))"
   ]
  },
  {
   "cell_type": "markdown",
   "metadata": {},
   "source": [
    "#### Calculate the expected value of emailing with discount offers, versus emailing without a discount offer."
   ]
  },
  {
   "cell_type": "code",
   "execution_count": 359,
   "metadata": {
    "collapsed": false
   },
   "outputs": [
    {
     "name": "stdout",
     "output_type": "stream",
     "text": [
      "Expected Value With Discount: $0.56\n",
      "Expected Value Without Discount: $1.38\n"
     ]
    }
   ],
   "source": [
    "expected_value_emailing_w_discount = \\\n",
    "(0.7 * (second_order_revenue_w_discount - 2)) \\\n",
    "+ (0.7 * 0.625 * (third_order_revenue_w_discount - 2))\n",
    "\n",
    "expected_value_emailing_wo_discount = \\\n",
    "(0.414 * second_order_revenue_wo_discount) \\\n",
    "+ (0.414 * 0.333 * third_order_revenue_wo_discount)\n",
    "\n",
    "print 'Expected Value With Discount: ${:,.2f}'.format(expected_value_emailing_w_discount)\n",
    "print 'Expected Value Without Discount: ${:,.2f}'.format(expected_value_emailing_wo_discount)"
   ]
  },
  {
   "cell_type": "markdown",
   "metadata": {},
   "source": [
    "#### It seems that in the short-term, emailing without a discount is the optimal strategy. However, we should conduct LTV analysis to determine if it is also the optimal strategy in the long-term."
   ]
  }
 ],
 "metadata": {
  "kernelspec": {
   "display_name": "Python 2",
   "language": "python",
   "name": "python2"
  },
  "language_info": {
   "codemirror_mode": {
    "name": "ipython",
    "version": 2
   },
   "file_extension": ".py",
   "mimetype": "text/x-python",
   "name": "python",
   "nbconvert_exporter": "python",
   "pygments_lexer": "ipython2",
   "version": "2.7.13"
  }
 },
 "nbformat": 4,
 "nbformat_minor": 2
}
